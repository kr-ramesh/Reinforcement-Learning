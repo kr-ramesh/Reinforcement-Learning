{
  "nbformat": 4,
  "nbformat_minor": 0,
  "metadata": {
    "colab": {
      "name": "DeepReinforcementLearning(Taxi-v3).ipynb",
      "provenance": []
    },
    "kernelspec": {
      "name": "python3",
      "display_name": "Python 3"
    }
  },
  "cells": [
    {
      "cell_type": "code",
      "metadata": {
        "id": "Nn8o32pbuue3",
        "colab_type": "code",
        "colab": {
          "base_uri": "https://localhost:8080/",
          "height": 151
        },
        "outputId": "5f3114e9-828d-4d1c-8e2e-dee2739428cb"
      },
      "source": [
        "#import dependencies\n",
        "import numpy as np\n",
        "import gym\n",
        "import random\n",
        "#create the environment\n",
        "env=gym.make(\"Taxi-v3\")\n",
        "env.render()\n"
      ],
      "execution_count": 2,
      "outputs": [
        {
          "output_type": "stream",
          "text": [
            "+---------+\n",
            "|R: | : :G|\n",
            "| : | : : |\n",
            "| : : : : |\n",
            "| | : | : |\n",
            "|\u001b[35m\u001b[43mY\u001b[0m\u001b[0m| : |\u001b[34;1mB\u001b[0m: |\n",
            "+---------+\n",
            "\n"
          ],
          "name": "stdout"
        }
      ]
    },
    {
      "cell_type": "code",
      "metadata": {
        "id": "YvAlYs3DvdTm",
        "colab_type": "code",
        "colab": {
          "base_uri": "https://localhost:8080/",
          "height": 34
        },
        "outputId": "1fc04a2c-197b-4ea3-d417-1b1a6489add7"
      },
      "source": [
        "#initialize q table\n",
        "q_t=np.zeros((env.observation_space.n, env.action_space.n))\n",
        "print(q_t.shape)"
      ],
      "execution_count": 6,
      "outputs": [
        {
          "output_type": "stream",
          "text": [
            "(500, 6)\n"
          ],
          "name": "stdout"
        }
      ]
    },
    {
      "cell_type": "code",
      "metadata": {
        "id": "N7gufn9mv5k-",
        "colab_type": "code",
        "colab": {}
      },
      "source": [
        "#initialize all the hyperparameters\n",
        "trainingep=50000\n",
        "ep=100\n",
        "totalsteps=100\n",
        "gamma=0.666\n",
        "learningrate=0.8\n",
        "epsilon=1.0\n",
        "decay=0.01\n",
        "maxepsilon=1.0\n",
        "minepsilon=0.01\n"
      ],
      "execution_count": 0,
      "outputs": []
    },
    {
      "cell_type": "code",
      "metadata": {
        "id": "OT0ZhIlTwaLz",
        "colab_type": "code",
        "colab": {}
      },
      "source": [
        "#training the agent to get the values of the qtable\n",
        "#epsilon indicates the tendency of the agent to explore\n",
        "for e in range(trainingep):\n",
        "  cur_state=env.reset()\n",
        "  done=False\n",
        "  for step in range(totalsteps):\n",
        "    trial=random.uniform(0,1)\n",
        "    if(epsilon>trial):\n",
        "      action=env.action_space.sample() #samples a random action\n",
        "    else:\n",
        "      action=np.argmax(q_t[cur_state,:]) #chooses the optimal state-action pair\n",
        "    next_state,reward,done,info=env.step(action) \n",
        "    q_t[cur_state,action]=q_t[cur_state,action]+(learningrate*(reward+gamma*np.max(q_t[next_state,:])-q_t[cur_state,action]))\n",
        "    cur_state=next_state\n",
        "\n",
        "    if(done==True):\n",
        "      break\n",
        "  epsilon=minepsilon+ (maxepsilon-minepsilon)*np.exp(-decay*e)\n",
        "    "
      ],
      "execution_count": 0,
      "outputs": []
    },
    {
      "cell_type": "code",
      "metadata": {
        "id": "53lzgWLGOJOv",
        "colab_type": "code",
        "colab": {
          "base_uri": "https://localhost:8080/",
          "height": 235
        },
        "outputId": "01ec54f2-bcef-4a0b-dec5-03281ec9591f"
      },
      "source": [
        "q_t"
      ],
      "execution_count": 36,
      "outputs": [
        {
          "output_type": "execute_result",
          "data": {
            "text/plain": [
              "array([[  0.        ,   0.        ,   0.        ,   0.        ,\n",
              "          0.        ,   0.        ],\n",
              "       [ -2.73108719,  -2.59976153,  -2.73108195,  -2.59927114,\n",
              "         -2.40124662, -11.5992344 ],\n",
              "       [ -1.65761873,  -1.03137115,  -1.65761847,  -0.98847849,\n",
              "          0.01889622,  -9.9874192 ],\n",
              "       ...,\n",
              "       [ -0.1119704 ,   1.52987411,  -0.62918332,  -1.40972289,\n",
              "         -9.62916154,  -9.11886612],\n",
              "       [ -2.48615178,  -2.10397449,  -2.48615178,  -2.3878406 ,\n",
              "        -10.27640307,  -9.61936977],\n",
              "       [  6.85340633,  -0.91      ,  -0.91      ,  12.32      ,\n",
              "         -3.26042214,  -1.86362983]])"
            ]
          },
          "metadata": {
            "tags": []
          },
          "execution_count": 36
        }
      ]
    },
    {
      "cell_type": "code",
      "metadata": {
        "id": "dYSTtjXZLiB1",
        "colab_type": "code",
        "colab": {
          "base_uri": "https://localhost:8080/",
          "height": 34
        },
        "outputId": "f57eb512-0dae-492d-d147-91972897cd70"
      },
      "source": [
        "#trial run to see how the agent performs\n",
        "env.reset()\n",
        "rewards=[]\n",
        "for e in range(ep):\n",
        "  state=env.reset()\n",
        "  done=False\n",
        "  tot_rew=0\n",
        "  for step in range(totalsteps):\n",
        "    #env.render()\n",
        "    action=np.argmax(q_t[state,:])\n",
        "    nstate,reward,done,info=env.step(action)\n",
        "    tot_rew+=reward\n",
        "    if done:\n",
        "      #print(\"GAME OVER\")\n",
        "      rewards.append(tot_rew)\n",
        "      break\n",
        "    state=nstate\n",
        "\n",
        "env.close()\n",
        "print(\"Average score:\", (sum(rewards)/ep))\n"
      ],
      "execution_count": 37,
      "outputs": [
        {
          "output_type": "stream",
          "text": [
            "Average score: 8.1\n"
          ],
          "name": "stdout"
        }
      ]
    }
  ]
}