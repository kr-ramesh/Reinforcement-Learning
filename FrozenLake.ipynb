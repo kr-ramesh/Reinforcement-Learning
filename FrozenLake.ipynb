{
 "cells": [
  {
   "cell_type": "code",
   "execution_count": 22,
   "metadata": {},
   "outputs": [],
   "source": [
    "import gym\n",
    "import numpy as np"
   ]
  },
  {
   "cell_type": "code",
   "execution_count": 23,
   "metadata": {},
   "outputs": [],
   "source": [
    "#this function runs the environment for a single episode\n",
    "def episode(env,policy,gamma=1.0):\n",
    "    obs=env.reset()\n",
    "    facpow=0\n",
    "    trew=0\n",
    "    while True:\n",
    "        obs,rew,done,_=env.step(int(policy[obs]))\n",
    "        trew+=(gamma**facpow*rew)\n",
    "        facpow+=1\n",
    "        if done:\n",
    "            break\n",
    "    return trew\n"
   ]
  },
  {
   "cell_type": "code",
   "execution_count": 24,
   "metadata": {},
   "outputs": [],
   "source": [
    "#returns a set of values from which the policy is extracted and evaluated\n",
    "def value_iteration(env,gamma=1.0):\n",
    "    policy=np.zeros(env.nS)\n",
    "    iterations=10000\n",
    "    for i in range(iterations):\n",
    "        prev_pol=np.copy(policy)\n",
    "        for s in range(env.nS):\n",
    "            q_a=[(sum([p*(r+policy[s_]) for p,s_,r,_ in env.P[s][x]])) for x in range(env.nA)]\n",
    "            policy[s]= max(q_a)\n",
    "        if (np.sum(np.fabs(prev_pol- policy)) <= 1e-20):\n",
    "            print('Convergence point:')\n",
    "            print(i+1)\n",
    "            break\n",
    "    return policy"
   ]
  },
  {
   "cell_type": "code",
   "execution_count": 25,
   "metadata": {},
   "outputs": [],
   "source": [
    "def extract(policy,gamma=1.0):\n",
    "    true_pol=np.zeros(env.nS)\n",
    "    for s in range(env.nS):\n",
    "        q_a=np.zeros(env.nA)\n",
    "        q_a=[(sum([p*(r+gamma*policy[s_]) for p,s_,r,_ in env.P[s][x]])) for x in range(env.nA)]\n",
    "        true_pol[s]=np.argmax(q_a)\n",
    "    return true_pol"
   ]
  },
  {
   "cell_type": "code",
   "execution_count": 26,
   "metadata": {},
   "outputs": [],
   "source": [
    "def evaluate(env,v,n=100,gamma=1.0):\n",
    "    scores = [episode(env,policy,gamma=gamma) for _ in range(n)]\n",
    "    return np.mean(scores)"
   ]
  },
  {
   "cell_type": "code",
   "execution_count": 27,
   "metadata": {},
   "outputs": [
    {
     "name": "stdout",
     "output_type": "stream",
     "text": [
      "Convergence point:\n",
      "1676\n",
      "Policy average score =  0.879\n"
     ]
    }
   ],
   "source": [
    "if __name__ == '__main__':\n",
    "    env_name  = 'FrozenLake8x8-v0'\n",
    "    gamma = 1.0\n",
    "    env = gym.make(env_name)\n",
    "    optimal_v = value_iteration(env, gamma);\n",
    "    policy = extract(optimal_v, gamma)\n",
    "    policy_score = evaluate(env, policy,n=1000,gamma=1.0)\n",
    "    print('Policy average score = ', policy_score)"
   ]
  },
  {
   "cell_type": "code",
   "execution_count": null,
   "metadata": {},
   "outputs": [],
   "source": []
  }
 ],
 "metadata": {
  "kernelspec": {
   "display_name": "Python 3",
   "language": "python",
   "name": "python3"
  },
  "language_info": {
   "codemirror_mode": {
    "name": "ipython",
    "version": 3
   },
   "file_extension": ".py",
   "mimetype": "text/x-python",
   "name": "python",
   "nbconvert_exporter": "python",
   "pygments_lexer": "ipython3",
   "version": "3.7.3"
  }
 },
 "nbformat": 4,
 "nbformat_minor": 2
}
